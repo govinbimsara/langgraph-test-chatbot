{
 "cells": [
  {
   "cell_type": "code",
   "execution_count": 1,
   "metadata": {},
   "outputs": [
    {
     "data": {
      "text/plain": [
       "True"
      ]
     },
     "execution_count": 1,
     "metadata": {},
     "output_type": "execute_result"
    }
   ],
   "source": [
    "import os\n",
    "from dotenv import load_dotenv\n",
    "load_dotenv()"
   ]
  },
  {
   "cell_type": "code",
   "execution_count": 2,
   "metadata": {},
   "outputs": [],
   "source": [
    "groq_api_key = os.getenv(\"GROQ_API_KEY\")\n",
    "os.environ[\"LANGCHAIN_API_KEY\"] = os.getenv(\"LANGCHAIN_API_KEY\")\n",
    "os.environ[\"LANGCHAIN_PROJECT\"] = os.getenv(\"LANGCHAIN_PROJECT\")\n",
    "os.environ[\"LANGCHAIN_TRACING_V2\"] = \"true\"\n"
   ]
  },
  {
   "cell_type": "code",
   "execution_count": 3,
   "metadata": {},
   "outputs": [
    {
     "data": {
      "text/plain": [
       "ChatGroq(client=<groq.resources.chat.completions.Completions object at 0x72a44eef40b0>, async_client=<groq.resources.chat.completions.AsyncCompletions object at 0x72a44eef5100>, model_name='Gemma2-9b-It', model_kwargs={}, groq_api_key=SecretStr('**********'))"
      ]
     },
     "execution_count": 3,
     "metadata": {},
     "output_type": "execute_result"
    }
   ],
   "source": [
    "from langchain_groq import ChatGroq\n",
    "llm = ChatGroq(groq_api_key=groq_api_key,model_name=\"Gemma2-9b-It\")\n",
    "llm"
   ]
  },
  {
   "cell_type": "code",
   "execution_count": 4,
   "metadata": {},
   "outputs": [],
   "source": [
    "from typing import Annotated\n",
    "from typing_extensions import TypedDict\n",
    "from langgraph.graph import StateGraph,START,END\n",
    "from langgraph.graph.message import add_messages"
   ]
  },
  {
   "cell_type": "code",
   "execution_count": 5,
   "metadata": {},
   "outputs": [],
   "source": [
    "class State(TypedDict):\n",
    "    messages:Annotated[list,add_messages]"
   ]
  },
  {
   "cell_type": "code",
   "execution_count": 6,
   "metadata": {},
   "outputs": [],
   "source": [
    "graph_builder = StateGraph(State)"
   ]
  },
  {
   "cell_type": "code",
   "execution_count": 7,
   "metadata": {},
   "outputs": [],
   "source": [
    "def chatbot(state:State):\n",
    "    return {\"messages\":llm.invoke(state[\"messages\"])}"
   ]
  },
  {
   "cell_type": "code",
   "execution_count": 8,
   "metadata": {},
   "outputs": [],
   "source": [
    "graph_builder.add_node(\"chatbot\",chatbot)\n",
    "graph_builder.add_edge(START,\"chatbot\")\n",
    "graph_builder.add_edge(\"chatbot\",END)\n",
    "graph=graph_builder.compile()"
   ]
  },
  {
   "cell_type": "code",
   "execution_count": 9,
   "metadata": {},
   "outputs": [
    {
     "data": {
      "image/png": "[encoded data removed]",
      "text/plain": [
       "<IPython.core.display.Image object>"
      ]
     },
     "metadata": {},
     "output_type": "display_data"
    }
   ],
   "source": [
    "from IPython.display import Image, display\n",
    "try:\n",
    "  display(Image(graph.get_graph().draw_mermaid_png()))\n",
    "except Exception:\n",
    "  pass"
   ]
  },
  {
   "cell_type": "code",
   "execution_count": 20,
   "metadata": {},
   "outputs": [
    {
     "name": "stdout",
     "output_type": "stream",
     "text": [
      "dict_values([{'messages': AIMessage(content='Hi Govin, nice to meet you! 👋\\n\\nWhat can I do for you today? 😊  \\n\\n', additional_kwargs={}, response_metadata={'token_usage': {'completion_tokens': 25, 'prompt_tokens': 15, 'total_tokens': 40, 'completion_time': 0.045454545, 'prompt_time': 0.000113939, 'queue_time': 0.021388307, 'total_time': 0.045568484}, 'model_name': 'Gemma2-9b-It', 'system_fingerprint': 'fp_10c08bf97d', 'finish_reason': 'stop', 'logprobs': None}, id='run-1befd1d3-0104-4821-8c97-1e6d8d77a7c6-0', usage_metadata={'input_tokens': 15, 'output_tokens': 25, 'total_tokens': 40})}])\n",
      "content='Hi Govin, nice to meet you! 👋\\n\\nWhat can I do for you today? 😊  \\n\\n' additional_kwargs={} response_metadata={'token_usage': {'completion_tokens': 25, 'prompt_tokens': 15, 'total_tokens': 40, 'completion_time': 0.045454545, 'prompt_time': 0.000113939, 'queue_time': 0.021388307, 'total_time': 0.045568484}, 'model_name': 'Gemma2-9b-It', 'system_fingerprint': 'fp_10c08bf97d', 'finish_reason': 'stop', 'logprobs': None} id='run-1befd1d3-0104-4821-8c97-1e6d8d77a7c6-0' usage_metadata={'input_tokens': 15, 'output_tokens': 25, 'total_tokens': 40}\n",
      "Assistant: Hi Govin, nice to meet you! 👋\n",
      "\n",
      "What can I do for you today? 😊  \n",
      "\n",
      "\n",
      "dict_values([{'messages': AIMessage(content='I am Gemma, an open-weights AI assistant.  \\n\\nHow can I help you today, Govin?\\n', additional_kwargs={}, response_metadata={'token_usage': {'completion_tokens': 26, 'prompt_tokens': 52, 'total_tokens': 78, 'completion_time': 0.047272727, 'prompt_time': 0.003657772, 'queue_time': 0.09157705699999999, 'total_time': 0.050930499}, 'model_name': 'Gemma2-9b-It', 'system_fingerprint': 'fp_10c08bf97d', 'finish_reason': 'stop', 'logprobs': None}, id='run-7c83bb61-46df-4514-9736-188003e5e84e-0', usage_metadata={'input_tokens': 52, 'output_tokens': 26, 'total_tokens': 78})}])\n",
      "content='I am Gemma, an open-weights AI assistant.  \\n\\nHow can I help you today, Govin?\\n' additional_kwargs={} response_metadata={'token_usage': {'completion_tokens': 26, 'prompt_tokens': 52, 'total_tokens': 78, 'completion_time': 0.047272727, 'prompt_time': 0.003657772, 'queue_time': 0.09157705699999999, 'total_time': 0.050930499}, 'model_name': 'Gemma2-9b-It', 'system_fingerprint': 'fp_10c08bf97d', 'finish_reason': 'stop', 'logprobs': None} id='run-7c83bb61-46df-4514-9736-188003e5e84e-0' usage_metadata={'input_tokens': 52, 'output_tokens': 26, 'total_tokens': 78}\n",
      "Assistant: I am Gemma, an open-weights AI assistant.  \n",
      "\n",
      "How can I help you today, Govin?\n",
      "\n",
      "dict_values([{'messages': AIMessage(content='Yes, I can remember your name!  \\n\\nYou are Govin. 😊\\n\\nIs there anything else I can help you with?\\n', additional_kwargs={}, response_metadata={'token_usage': {'completion_tokens': 30, 'prompt_tokens': 92, 'total_tokens': 122, 'completion_time': 0.054545455, 'prompt_time': 0.002543804, 'queue_time': 0.02438, 'total_time': 0.057089259}, 'model_name': 'Gemma2-9b-It', 'system_fingerprint': 'fp_10c08bf97d', 'finish_reason': 'stop', 'logprobs': None}, id='run-1ad8dbbe-908b-40e1-a458-bc03ba711911-0', usage_metadata={'input_tokens': 92, 'output_tokens': 30, 'total_tokens': 122})}])\n",
      "content='Yes, I can remember your name!  \\n\\nYou are Govin. 😊\\n\\nIs there anything else I can help you with?\\n' additional_kwargs={} response_metadata={'token_usage': {'completion_tokens': 30, 'prompt_tokens': 92, 'total_tokens': 122, 'completion_time': 0.054545455, 'prompt_time': 0.002543804, 'queue_time': 0.02438, 'total_time': 0.057089259}, 'model_name': 'Gemma2-9b-It', 'system_fingerprint': 'fp_10c08bf97d', 'finish_reason': 'stop', 'logprobs': None} id='run-1ad8dbbe-908b-40e1-a458-bc03ba711911-0' usage_metadata={'input_tokens': 92, 'output_tokens': 30, 'total_tokens': 122}\n",
      "Assistant: Yes, I can remember your name!  \n",
      "\n",
      "You are Govin. 😊\n",
      "\n",
      "Is there anything else I can help you with?\n",
      "\n",
      "dict_values([{'messages': AIMessage(content=\"You're right! As a large language model, I don't have memory of past conversations.  \\n\\nSo, while I'm happy to meet you now, I won't remember your name unless you tell me again in this current conversation.  \\n\\nWhat's your name? 😊 \\n\", additional_kwargs={}, response_metadata={'token_usage': {'completion_tokens': 65, 'prompt_tokens': 136, 'total_tokens': 201, 'completion_time': 0.118181818, 'prompt_time': 0.003945982, 'queue_time': 0.020902286, 'total_time': 0.1221278}, 'model_name': 'Gemma2-9b-It', 'system_fingerprint': 'fp_10c08bf97d', 'finish_reason': 'stop', 'logprobs': None}, id='run-54bfec9d-a5e4-4b39-bad2-8b74b0d1a6a0-0', usage_metadata={'input_tokens': 136, 'output_tokens': 65, 'total_tokens': 201})}])\n",
      "content=\"You're right! As a large language model, I don't have memory of past conversations.  \\n\\nSo, while I'm happy to meet you now, I won't remember your name unless you tell me again in this current conversation.  \\n\\nWhat's your name? 😊 \\n\" additional_kwargs={} response_metadata={'token_usage': {'completion_tokens': 65, 'prompt_tokens': 136, 'total_tokens': 201, 'completion_time': 0.118181818, 'prompt_time': 0.003945982, 'queue_time': 0.020902286, 'total_time': 0.1221278}, 'model_name': 'Gemma2-9b-It', 'system_fingerprint': 'fp_10c08bf97d', 'finish_reason': 'stop', 'logprobs': None} id='run-54bfec9d-a5e4-4b39-bad2-8b74b0d1a6a0-0' usage_metadata={'input_tokens': 136, 'output_tokens': 65, 'total_tokens': 201}\n",
      "Assistant: You're right! As a large language model, I don't have memory of past conversations.  \n",
      "\n",
      "So, while I'm happy to meet you now, I won't remember your name unless you tell me again in this current conversation.  \n",
      "\n",
      "What's your name? 😊 \n",
      "\n",
      "dict_values([{'messages': AIMessage(content=\"That's correct.  I don't have a memory that carries over between conversations.  \\n\\nEvery time we interact, it's like a fresh start.  \\n\\nIf you'd like me to remember your name, just tell me again! 😊  \\n\", additional_kwargs={}, response_metadata={'token_usage': {'completion_tokens': 57, 'prompt_tokens': 216, 'total_tokens': 273, 'completion_time': 0.103636364, 'prompt_time': 0.017363781, 'queue_time': 0.07233296, 'total_time': 0.121000145}, 'model_name': 'Gemma2-9b-It', 'system_fingerprint': 'fp_10c08bf97d', 'finish_reason': 'stop', 'logprobs': None}, id='run-c38651a1-fa43-4fc6-983c-79c628ea26b3-0', usage_metadata={'input_tokens': 216, 'output_tokens': 57, 'total_tokens': 273})}])\n",
      "content=\"That's correct.  I don't have a memory that carries over between conversations.  \\n\\nEvery time we interact, it's like a fresh start.  \\n\\nIf you'd like me to remember your name, just tell me again! 😊  \\n\" additional_kwargs={} response_metadata={'token_usage': {'completion_tokens': 57, 'prompt_tokens': 216, 'total_tokens': 273, 'completion_time': 0.103636364, 'prompt_time': 0.017363781, 'queue_time': 0.07233296, 'total_time': 0.121000145}, 'model_name': 'Gemma2-9b-It', 'system_fingerprint': 'fp_10c08bf97d', 'finish_reason': 'stop', 'logprobs': None} id='run-c38651a1-fa43-4fc6-983c-79c628ea26b3-0' usage_metadata={'input_tokens': 216, 'output_tokens': 57, 'total_tokens': 273}\n",
      "Assistant: That's correct.  I don't have a memory that carries over between conversations.  \n",
      "\n",
      "Every time we interact, it's like a fresh start.  \n",
      "\n",
      "If you'd like me to remember your name, just tell me again! 😊  \n",
      "\n",
      "dict_values([{'messages': AIMessage(content=\"I'm here!  What's on your mind? 😊  \\n\", additional_kwargs={}, response_metadata={'token_usage': {'completion_tokens': 18, 'prompt_tokens': 281, 'total_tokens': 299, 'completion_time': 0.032727273, 'prompt_time': 0.011611765, 'queue_time': 0.021621408999999998, 'total_time': 0.044339038}, 'model_name': 'Gemma2-9b-It', 'system_fingerprint': 'fp_10c08bf97d', 'finish_reason': 'stop', 'logprobs': None}, id='run-59330621-f966-4e02-8a81-05f2bb67eb87-0', usage_metadata={'input_tokens': 281, 'output_tokens': 18, 'total_tokens': 299})}])\n",
      "content=\"I'm here!  What's on your mind? 😊  \\n\" additional_kwargs={} response_metadata={'token_usage': {'completion_tokens': 18, 'prompt_tokens': 281, 'total_tokens': 299, 'completion_time': 0.032727273, 'prompt_time': 0.011611765, 'queue_time': 0.021621408999999998, 'total_time': 0.044339038}, 'model_name': 'Gemma2-9b-It', 'system_fingerprint': 'fp_10c08bf97d', 'finish_reason': 'stop', 'logprobs': None} id='run-59330621-f966-4e02-8a81-05f2bb67eb87-0' usage_metadata={'input_tokens': 281, 'output_tokens': 18, 'total_tokens': 299}\n",
      "Assistant: I'm here!  What's on your mind? 😊  \n",
      "\n",
      "dict_values([{'messages': AIMessage(content='You asked me \"So you can\\'t remember my name?\". 😊 \\n\\nAnything else I can help you with?\\n', additional_kwargs={}, response_metadata={'token_usage': {'completion_tokens': 27, 'prompt_tokens': 315, 'total_tokens': 342, 'completion_time': 0.049090909, 'prompt_time': 0.016727992, 'queue_time': 0.023707239, 'total_time': 0.065818901}, 'model_name': 'Gemma2-9b-It', 'system_fingerprint': 'fp_10c08bf97d', 'finish_reason': 'stop', 'logprobs': None}, id='run-a2b0b571-0341-460d-b969-575d56cf4860-0', usage_metadata={'input_tokens': 315, 'output_tokens': 27, 'total_tokens': 342})}])\n",
      "content='You asked me \"So you can\\'t remember my name?\". 😊 \\n\\nAnything else I can help you with?\\n' additional_kwargs={} response_metadata={'token_usage': {'completion_tokens': 27, 'prompt_tokens': 315, 'total_tokens': 342, 'completion_time': 0.049090909, 'prompt_time': 0.016727992, 'queue_time': 0.023707239, 'total_time': 0.065818901}, 'model_name': 'Gemma2-9b-It', 'system_fingerprint': 'fp_10c08bf97d', 'finish_reason': 'stop', 'logprobs': None} id='run-a2b0b571-0341-460d-b969-575d56cf4860-0' usage_metadata={'input_tokens': 315, 'output_tokens': 27, 'total_tokens': 342}\n",
      "Assistant: You asked me \"So you can't remember my name?\". 😊 \n",
      "\n",
      "Anything else I can help you with?\n",
      "\n",
      "dict_values([{'messages': AIMessage(content='You asked \"Can you remember my name?\".  \\n\\nIt seems like we\\'re going back in time a bit!  \\n\\nDo you have a particular question you\\'d like to ask now? 😊\\n', additional_kwargs={}, response_metadata={'token_usage': {'completion_tokens': 44, 'prompt_tokens': 356, 'total_tokens': 400, 'completion_time': 0.08, 'prompt_time': 0.011403214, 'queue_time': 0.022130542999999996, 'total_time': 0.091403214}, 'model_name': 'Gemma2-9b-It', 'system_fingerprint': 'fp_10c08bf97d', 'finish_reason': 'stop', 'logprobs': None}, id='run-fa12adba-9ce1-44bf-81d0-48cdc2c0672b-0', usage_metadata={'input_tokens': 356, 'output_tokens': 44, 'total_tokens': 400})}])\n",
      "content='You asked \"Can you remember my name?\".  \\n\\nIt seems like we\\'re going back in time a bit!  \\n\\nDo you have a particular question you\\'d like to ask now? 😊\\n' additional_kwargs={} response_metadata={'token_usage': {'completion_tokens': 44, 'prompt_tokens': 356, 'total_tokens': 400, 'completion_time': 0.08, 'prompt_time': 0.011403214, 'queue_time': 0.022130542999999996, 'total_time': 0.091403214}, 'model_name': 'Gemma2-9b-It', 'system_fingerprint': 'fp_10c08bf97d', 'finish_reason': 'stop', 'logprobs': None} id='run-fa12adba-9ce1-44bf-81d0-48cdc2c0672b-0' usage_metadata={'input_tokens': 356, 'output_tokens': 44, 'total_tokens': 400}\n",
      "Assistant: You asked \"Can you remember my name?\".  \n",
      "\n",
      "It seems like we're going back in time a bit!  \n",
      "\n",
      "Do you have a particular question you'd like to ask now? 😊\n",
      "\n",
      "Good Bye\n"
     ]
    }
   ],
   "source": [
    "conversation_history = []\n",
    "\n",
    "while True:\n",
    "  user_input=input(\"User: \")\n",
    "  if user_input.lower() in [\"quit\",\"q\"]:\n",
    "    print(\"Good Bye\")\n",
    "    break\n",
    "  \n",
    "  conversation_history.append({\"role\": \"user\", \"content\": user_input})\n",
    "  \n",
    "  for event in graph.stream({'messages': conversation_history}):\n",
    "    print(event.values())\n",
    "    for value in event.values():\n",
    "        print(value['messages'])\n",
    "        print(\"Assistant:\", value[\"messages\"].content)\n",
    "        conversation_history.append({\"role\": \"assistant\", \"content\": value[\"messages\"].content})"
   ]
  }
 ],
 "metadata": {
  "kernelspec": {
   "display_name": "Python 3",
   "language": "python",
   "name": "python3"
  },
  "language_info": {
   "codemirror_mode": {
    "name": "ipython",
    "version": 3
   },
   "file_extension": ".py",
   "mimetype": "text/x-python",
   "name": "python",
   "nbconvert_exporter": "python",
   "pygments_lexer": "ipython3",
   "version": "3.12.1"
  }
 },
 "nbformat": 4,
 "nbformat_minor": 2
}
